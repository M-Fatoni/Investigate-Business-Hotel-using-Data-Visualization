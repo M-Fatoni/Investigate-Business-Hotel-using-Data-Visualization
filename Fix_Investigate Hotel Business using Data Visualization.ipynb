{
 "cells": [
  {
   "cell_type": "code",
   "execution_count": 1,
   "id": "75275e8c",
   "metadata": {},
   "outputs": [],
   "source": [
    "import pandas as pd\n",
    "import numpy as np\n",
    "import seaborn as sns\n",
    "import matplotlib.pyplot as plt\n",
    "\n",
    "import warnings\n",
    "warnings.filterwarnings('ignore')"
   ]
  },
  {
   "cell_type": "code",
   "execution_count": 2,
   "id": "3d7f2e1c",
   "metadata": {},
   "outputs": [],
   "source": [
    "df = pd.read_csv('hotel_bookings_data.csv', sep=',')"
   ]
  },
  {
   "cell_type": "code",
   "execution_count": 3,
   "id": "555c978f",
   "metadata": {},
   "outputs": [
    {
     "data": {
      "text/html": [
       "<div>\n",
       "<style scoped>\n",
       "    .dataframe tbody tr th:only-of-type {\n",
       "        vertical-align: middle;\n",
       "    }\n",
       "\n",
       "    .dataframe tbody tr th {\n",
       "        vertical-align: top;\n",
       "    }\n",
       "\n",
       "    .dataframe thead th {\n",
       "        text-align: right;\n",
       "    }\n",
       "</style>\n",
       "<table border=\"1\" class=\"dataframe\">\n",
       "  <thead>\n",
       "    <tr style=\"text-align: right;\">\n",
       "      <th></th>\n",
       "      <th>hotel</th>\n",
       "      <th>is_canceled</th>\n",
       "      <th>lead_time</th>\n",
       "      <th>arrival_date_year</th>\n",
       "      <th>arrival_date_month</th>\n",
       "      <th>arrival_date_week_number</th>\n",
       "      <th>arrival_date_day_of_month</th>\n",
       "      <th>stays_in_weekend_nights</th>\n",
       "      <th>stays_in_weekdays_nights</th>\n",
       "      <th>adults</th>\n",
       "      <th>...</th>\n",
       "      <th>booking_changes</th>\n",
       "      <th>deposit_type</th>\n",
       "      <th>agent</th>\n",
       "      <th>company</th>\n",
       "      <th>days_in_waiting_list</th>\n",
       "      <th>customer_type</th>\n",
       "      <th>adr</th>\n",
       "      <th>required_car_parking_spaces</th>\n",
       "      <th>total_of_special_requests</th>\n",
       "      <th>reservation_status</th>\n",
       "    </tr>\n",
       "  </thead>\n",
       "  <tbody>\n",
       "    <tr>\n",
       "      <th>73848</th>\n",
       "      <td>City Hotel</td>\n",
       "      <td>1</td>\n",
       "      <td>307</td>\n",
       "      <td>2017</td>\n",
       "      <td>October</td>\n",
       "      <td>34</td>\n",
       "      <td>20</td>\n",
       "      <td>0</td>\n",
       "      <td>2</td>\n",
       "      <td>2</td>\n",
       "      <td>...</td>\n",
       "      <td>0</td>\n",
       "      <td>No Deposit</td>\n",
       "      <td>1.0</td>\n",
       "      <td>NaN</td>\n",
       "      <td>0</td>\n",
       "      <td>Family</td>\n",
       "      <td>62.80</td>\n",
       "      <td>0</td>\n",
       "      <td>0</td>\n",
       "      <td>Canceled</td>\n",
       "    </tr>\n",
       "    <tr>\n",
       "      <th>51423</th>\n",
       "      <td>City Hotel</td>\n",
       "      <td>1</td>\n",
       "      <td>322</td>\n",
       "      <td>2018</td>\n",
       "      <td>July</td>\n",
       "      <td>21</td>\n",
       "      <td>19</td>\n",
       "      <td>1</td>\n",
       "      <td>3</td>\n",
       "      <td>2</td>\n",
       "      <td>...</td>\n",
       "      <td>0</td>\n",
       "      <td>Non Refund</td>\n",
       "      <td>31.0</td>\n",
       "      <td>NaN</td>\n",
       "      <td>120</td>\n",
       "      <td>Personal</td>\n",
       "      <td>80.00</td>\n",
       "      <td>0</td>\n",
       "      <td>0</td>\n",
       "      <td>Canceled</td>\n",
       "    </tr>\n",
       "    <tr>\n",
       "      <th>2728</th>\n",
       "      <td>Resort Hotel</td>\n",
       "      <td>0</td>\n",
       "      <td>2</td>\n",
       "      <td>2017</td>\n",
       "      <td>December</td>\n",
       "      <td>44</td>\n",
       "      <td>28</td>\n",
       "      <td>0</td>\n",
       "      <td>2</td>\n",
       "      <td>1</td>\n",
       "      <td>...</td>\n",
       "      <td>0</td>\n",
       "      <td>No Deposit</td>\n",
       "      <td>NaN</td>\n",
       "      <td>NaN</td>\n",
       "      <td>0</td>\n",
       "      <td>Personal</td>\n",
       "      <td>39.00</td>\n",
       "      <td>0</td>\n",
       "      <td>0</td>\n",
       "      <td>Check-Out</td>\n",
       "    </tr>\n",
       "    <tr>\n",
       "      <th>87682</th>\n",
       "      <td>City Hotel</td>\n",
       "      <td>0</td>\n",
       "      <td>194</td>\n",
       "      <td>2018</td>\n",
       "      <td>June</td>\n",
       "      <td>17</td>\n",
       "      <td>21</td>\n",
       "      <td>0</td>\n",
       "      <td>3</td>\n",
       "      <td>2</td>\n",
       "      <td>...</td>\n",
       "      <td>1</td>\n",
       "      <td>No Deposit</td>\n",
       "      <td>7.0</td>\n",
       "      <td>NaN</td>\n",
       "      <td>0</td>\n",
       "      <td>Personal</td>\n",
       "      <td>73.46</td>\n",
       "      <td>0</td>\n",
       "      <td>0</td>\n",
       "      <td>Check-Out</td>\n",
       "    </tr>\n",
       "    <tr>\n",
       "      <th>116388</th>\n",
       "      <td>City Hotel</td>\n",
       "      <td>0</td>\n",
       "      <td>15</td>\n",
       "      <td>2019</td>\n",
       "      <td>September</td>\n",
       "      <td>29</td>\n",
       "      <td>18</td>\n",
       "      <td>0</td>\n",
       "      <td>1</td>\n",
       "      <td>1</td>\n",
       "      <td>...</td>\n",
       "      <td>0</td>\n",
       "      <td>No Deposit</td>\n",
       "      <td>14.0</td>\n",
       "      <td>NaN</td>\n",
       "      <td>0</td>\n",
       "      <td>Personal</td>\n",
       "      <td>145.00</td>\n",
       "      <td>0</td>\n",
       "      <td>1</td>\n",
       "      <td>Check-Out</td>\n",
       "    </tr>\n",
       "  </tbody>\n",
       "</table>\n",
       "<p>5 rows × 29 columns</p>\n",
       "</div>"
      ],
      "text/plain": [
       "               hotel  is_canceled  lead_time  arrival_date_year   \n",
       "73848     City Hotel            1        307               2017  \\\n",
       "51423     City Hotel            1        322               2018   \n",
       "2728    Resort Hotel            0          2               2017   \n",
       "87682     City Hotel            0        194               2018   \n",
       "116388    City Hotel            0         15               2019   \n",
       "\n",
       "       arrival_date_month  arrival_date_week_number   \n",
       "73848             October                        34  \\\n",
       "51423                July                        21   \n",
       "2728             December                        44   \n",
       "87682                June                        17   \n",
       "116388          September                        29   \n",
       "\n",
       "        arrival_date_day_of_month  stays_in_weekend_nights   \n",
       "73848                          20                        0  \\\n",
       "51423                          19                        1   \n",
       "2728                           28                        0   \n",
       "87682                          21                        0   \n",
       "116388                         18                        0   \n",
       "\n",
       "        stays_in_weekdays_nights  adults  ...  booking_changes  deposit_type   \n",
       "73848                          2       2  ...                0    No Deposit  \\\n",
       "51423                          3       2  ...                0    Non Refund   \n",
       "2728                           2       1  ...                0    No Deposit   \n",
       "87682                          3       2  ...                1    No Deposit   \n",
       "116388                         1       1  ...                0    No Deposit   \n",
       "\n",
       "       agent company days_in_waiting_list customer_type     adr   \n",
       "73848    1.0     NaN                    0        Family   62.80  \\\n",
       "51423   31.0     NaN                  120      Personal   80.00   \n",
       "2728     NaN     NaN                    0      Personal   39.00   \n",
       "87682    7.0     NaN                    0      Personal   73.46   \n",
       "116388  14.0     NaN                    0      Personal  145.00   \n",
       "\n",
       "        required_car_parking_spaces  total_of_special_requests   \n",
       "73848                             0                          0  \\\n",
       "51423                             0                          0   \n",
       "2728                              0                          0   \n",
       "87682                             0                          0   \n",
       "116388                            0                          1   \n",
       "\n",
       "        reservation_status  \n",
       "73848             Canceled  \n",
       "51423             Canceled  \n",
       "2728             Check-Out  \n",
       "87682            Check-Out  \n",
       "116388           Check-Out  \n",
       "\n",
       "[5 rows x 29 columns]"
      ]
     },
     "execution_count": 3,
     "metadata": {},
     "output_type": "execute_result"
    }
   ],
   "source": [
    "df.sample(5)"
   ]
  },
  {
   "cell_type": "markdown",
   "id": "2d128695",
   "metadata": {},
   "source": [
    "## Data Preprocessing"
   ]
  },
  {
   "cell_type": "markdown",
   "id": "bb700c9e",
   "metadata": {},
   "source": [
    "### <font color = 'darkred'> Handling Missing Values </font>"
   ]
  },
  {
   "cell_type": "code",
   "execution_count": 5,
   "id": "a277c122",
   "metadata": {},
   "outputs": [
    {
     "data": {
      "text/html": [
       "<div>\n",
       "<style scoped>\n",
       "    .dataframe tbody tr th:only-of-type {\n",
       "        vertical-align: middle;\n",
       "    }\n",
       "\n",
       "    .dataframe tbody tr th {\n",
       "        vertical-align: top;\n",
       "    }\n",
       "\n",
       "    .dataframe thead th {\n",
       "        text-align: right;\n",
       "    }\n",
       "</style>\n",
       "<table border=\"1\" class=\"dataframe\">\n",
       "  <thead>\n",
       "    <tr style=\"text-align: right;\">\n",
       "      <th></th>\n",
       "      <th>column</th>\n",
       "      <th>total</th>\n",
       "    </tr>\n",
       "  </thead>\n",
       "  <tbody>\n",
       "    <tr>\n",
       "      <th>10</th>\n",
       "      <td>children</td>\n",
       "      <td>4</td>\n",
       "    </tr>\n",
       "    <tr>\n",
       "      <th>13</th>\n",
       "      <td>city</td>\n",
       "      <td>488</td>\n",
       "    </tr>\n",
       "    <tr>\n",
       "      <th>21</th>\n",
       "      <td>agent</td>\n",
       "      <td>16340</td>\n",
       "    </tr>\n",
       "    <tr>\n",
       "      <th>22</th>\n",
       "      <td>company</td>\n",
       "      <td>112593</td>\n",
       "    </tr>\n",
       "  </tbody>\n",
       "</table>\n",
       "</div>"
      ],
      "text/plain": [
       "      column   total\n",
       "10  children       4\n",
       "13      city     488\n",
       "21     agent   16340\n",
       "22   company  112593"
      ]
     },
     "execution_count": 5,
     "metadata": {},
     "output_type": "execute_result"
    }
   ],
   "source": [
    "# Mengecek Missing Values\n",
    "df_null = df.isna().sum().reset_index()\n",
    "df_null = df_null.rename(columns={'index':'column', 0:'total'})\n",
    "df_null[df_null['total']!=0]"
   ]
  },
  {
   "cell_type": "code",
   "execution_count": 6,
   "id": "70c60b11",
   "metadata": {},
   "outputs": [],
   "source": [
    "# Handling Missing Values\n",
    "df['children'] = df['children'].fillna(0.0)\n",
    "df['city'] = df['city'].fillna('Unknown')\n",
    "df['company'] = df['company'].fillna(0.0)\n",
    "df['agent'] = df['agent'].fillna(0.0)"
   ]
  },
  {
   "cell_type": "code",
   "execution_count": 7,
   "id": "3637538e",
   "metadata": {},
   "outputs": [
    {
     "data": {
      "text/plain": [
       "hotel                             0\n",
       "is_canceled                       0\n",
       "lead_time                         0\n",
       "arrival_date_year                 0\n",
       "arrival_date_month                0\n",
       "arrival_date_week_number          0\n",
       "arrival_date_day_of_month         0\n",
       "stays_in_weekend_nights           0\n",
       "stays_in_weekdays_nights          0\n",
       "adults                            0\n",
       "children                          0\n",
       "babies                            0\n",
       "meal                              0\n",
       "city                              0\n",
       "market_segment                    0\n",
       "distribution_channel              0\n",
       "is_repeated_guest                 0\n",
       "previous_cancellations            0\n",
       "previous_bookings_not_canceled    0\n",
       "booking_changes                   0\n",
       "deposit_type                      0\n",
       "agent                             0\n",
       "company                           0\n",
       "days_in_waiting_list              0\n",
       "customer_type                     0\n",
       "adr                               0\n",
       "required_car_parking_spaces       0\n",
       "total_of_special_requests         0\n",
       "reservation_status                0\n",
       "dtype: int64"
      ]
     },
     "execution_count": 7,
     "metadata": {},
     "output_type": "execute_result"
    }
   ],
   "source": [
    "df.isna().sum()"
   ]
  },
  {
   "cell_type": "markdown",
   "id": "5b13dc76",
   "metadata": {},
   "source": [
    "### <font color = 'darkred'> Mengganti Value yang Tidak Sesuai </font>"
   ]
  },
  {
   "cell_type": "code",
   "execution_count": 8,
   "id": "4da3f76a",
   "metadata": {},
   "outputs": [
    {
     "data": {
      "text/plain": [
       "meal\n",
       "Breakfast     92310\n",
       "Dinner        14463\n",
       "No Meal       10650\n",
       "Undefined      1169\n",
       "Full Board      798\n",
       "Name: count, dtype: int64"
      ]
     },
     "execution_count": 8,
     "metadata": {},
     "output_type": "execute_result"
    }
   ],
   "source": [
    "df['meal'].value_counts()"
   ]
  },
  {
   "cell_type": "code",
   "execution_count": 9,
   "id": "268c6608",
   "metadata": {},
   "outputs": [],
   "source": [
    "df['meal'] = df.meal.replace({\n",
    "    'Breakfast':'With Meal',     \n",
    "    'Dinner':'With Meal',        \n",
    "    'No Meal':'No Meal',       \n",
    "    'Undefined':'No Meal',      \n",
    "    'Full Board':'With Meal'      \n",
    "})"
   ]
  },
  {
   "cell_type": "code",
   "execution_count": 10,
   "id": "e4fa4831",
   "metadata": {},
   "outputs": [
    {
     "data": {
      "text/plain": [
       "meal\n",
       "With Meal    107571\n",
       "No Meal       11819\n",
       "Name: count, dtype: int64"
      ]
     },
     "execution_count": 10,
     "metadata": {},
     "output_type": "execute_result"
    }
   ],
   "source": [
    "df['meal'].value_counts()"
   ]
  },
  {
   "cell_type": "markdown",
   "id": "7e1233aa",
   "metadata": {},
   "source": [
    "### <font color = 'darkred'> Membuang Data yang Tidak Diperlukan </font>"
   ]
  },
  {
   "cell_type": "code",
   "execution_count": 11,
   "id": "2baf6169",
   "metadata": {},
   "outputs": [],
   "source": [
    "# Menambahkan kolom baru 'total_guests'\n",
    "df['total_guests'] = df['adults'] + df['children'] + df['babies']"
   ]
  },
  {
   "cell_type": "code",
   "execution_count": 12,
   "id": "adfa5b63",
   "metadata": {},
   "outputs": [],
   "source": [
    "# Memeriksa pemesanan yang memiliki total tamu 0\n",
    "to_drop = df[df['total_guests'] == 0].index"
   ]
  },
  {
   "cell_type": "code",
   "execution_count": 13,
   "id": "1bc7bfec",
   "metadata": {},
   "outputs": [
    {
     "data": {
      "text/plain": [
       "180"
      ]
     },
     "execution_count": 13,
     "metadata": {},
     "output_type": "execute_result"
    }
   ],
   "source": [
    "len(to_drop)"
   ]
  },
  {
   "cell_type": "code",
   "execution_count": 14,
   "id": "b36b8143",
   "metadata": {},
   "outputs": [],
   "source": [
    "# Menghapus baris yang memenuhi kriteria total tamu 0\n",
    "df = df.drop(to_drop)"
   ]
  },
  {
   "cell_type": "markdown",
   "id": "27775f39",
   "metadata": {},
   "source": [
    "## Data Analyst"
   ]
  },
  {
   "cell_type": "markdown",
   "id": "54e5cb82",
   "metadata": {},
   "source": [
    "### <font color = 'darkblue'>Monthly Hotel Booking Analysis Based on Hotel Type </font>"
   ]
  },
  {
   "cell_type": "code",
   "execution_count": 28,
   "id": "91fff899",
   "metadata": {},
   "outputs": [
    {
     "data": {
      "text/plain": [
       "hotel\n",
       "City Hotel      0.664063\n",
       "Resort Hotel    0.335937\n",
       "Name: proportion, dtype: float64"
      ]
     },
     "execution_count": 28,
     "metadata": {},
     "output_type": "execute_result"
    }
   ],
   "source": [
    "df['hotel'].value_counts(normalize=True)"
   ]
  },
  {
   "cell_type": "code",
   "execution_count": 29,
   "id": "2df4fbdb",
   "metadata": {},
   "outputs": [
    {
     "data": {
      "text/plain": [
       "arrival_date_month\n",
       "October      13861\n",
       "September    12644\n",
       "July         11780\n",
       "December     11147\n",
       "June         11078\n",
       "August       10929\n",
       "November     10500\n",
       "May           9768\n",
       "April         8052\n",
       "January       6771\n",
       "February      6759\n",
       "March         5921\n",
       "Name: count, dtype: int64"
      ]
     },
     "execution_count": 29,
     "metadata": {},
     "output_type": "execute_result"
    }
   ],
   "source": [
    "df['arrival_date_month'].value_counts()"
   ]
  },
  {
   "cell_type": "code",
   "execution_count": 30,
   "id": "9f8a94d2",
   "metadata": {},
   "outputs": [],
   "source": [
    "df['arrival_date_month_number'] = df['arrival_date_month'].replace({\n",
    "    'January':1,\n",
    "    'February':2,\n",
    "    'March':3,\n",
    "    'April':4,\n",
    "    'May':5,\n",
    "    'June':6,\n",
    "    'July':7,\n",
    "    'August':8,\n",
    "    'September':9,\n",
    "    'October':10,\n",
    "    'November':11,\n",
    "    'December':12\n",
    "})"
   ]
  },
  {
   "cell_type": "code",
   "execution_count": 17,
   "id": "d0ed2963",
   "metadata": {},
   "outputs": [],
   "source": [
    "df['arrival_month'] = df['arrival_date_month_number'] + ' ' + df['arrival_date_year']"
   ]
  },
  {
   "cell_type": "code",
   "execution_count": 34,
   "id": "8bc14c1d",
   "metadata": {},
   "outputs": [],
   "source": [
    "grouped_hotel_arrival = df.groupby(['arrival_date_year', 'arrival_date_month_number','arrival_month', 'hotel']).size().unstack(fill_value=0).sort_values(by = ['arrival_date_year', \n",
    "                                                                                                                                'arrival_date_month_number'], ascending=True)"
   ]
  },
  {
   "cell_type": "code",
   "execution_count": 35,
   "id": "fd6384ea",
   "metadata": {},
   "outputs": [
    {
     "data": {
      "text/html": [
       "<div>\n",
       "<style scoped>\n",
       "    .dataframe tbody tr th:only-of-type {\n",
       "        vertical-align: middle;\n",
       "    }\n",
       "\n",
       "    .dataframe tbody tr th {\n",
       "        vertical-align: top;\n",
       "    }\n",
       "\n",
       "    .dataframe thead th {\n",
       "        text-align: right;\n",
       "    }\n",
       "</style>\n",
       "<table border=\"1\" class=\"dataframe\">\n",
       "  <thead>\n",
       "    <tr style=\"text-align: right;\">\n",
       "      <th></th>\n",
       "      <th></th>\n",
       "      <th>hotel</th>\n",
       "      <th>City Hotel</th>\n",
       "      <th>Resort Hotel</th>\n",
       "    </tr>\n",
       "    <tr>\n",
       "      <th>arrival_date_year</th>\n",
       "      <th>arrival_date_month_number</th>\n",
       "      <th>arrival_month</th>\n",
       "      <th></th>\n",
       "      <th></th>\n",
       "    </tr>\n",
       "  </thead>\n",
       "  <tbody>\n",
       "    <tr>\n",
       "      <th rowspan=\"6\" valign=\"top\">2017</th>\n",
       "      <th>1</th>\n",
       "      <th>January 2017</th>\n",
       "      <td>1233</td>\n",
       "      <td>1104</td>\n",
       "    </tr>\n",
       "    <tr>\n",
       "      <th>2</th>\n",
       "      <th>February 2017</th>\n",
       "      <td>1649</td>\n",
       "      <td>1264</td>\n",
       "    </tr>\n",
       "    <tr>\n",
       "      <th>9</th>\n",
       "      <th>September 2017</th>\n",
       "      <td>1396</td>\n",
       "      <td>1378</td>\n",
       "    </tr>\n",
       "    <tr>\n",
       "      <th>10</th>\n",
       "      <th>October 2017</th>\n",
       "      <td>2474</td>\n",
       "      <td>1409</td>\n",
       "    </tr>\n",
       "    <tr>\n",
       "      <th>11</th>\n",
       "      <th>November 2017</th>\n",
       "      <td>3524</td>\n",
       "      <td>1585</td>\n",
       "    </tr>\n",
       "    <tr>\n",
       "      <th>12</th>\n",
       "      <th>December 2017</th>\n",
       "      <td>3382</td>\n",
       "      <td>1569</td>\n",
       "    </tr>\n",
       "    <tr>\n",
       "      <th rowspan=\"12\" valign=\"top\">2018</th>\n",
       "      <th>1</th>\n",
       "      <th>January 2018</th>\n",
       "      <td>3103</td>\n",
       "      <td>1331</td>\n",
       "    </tr>\n",
       "    <tr>\n",
       "      <th>2</th>\n",
       "      <th>February 2018</th>\n",
       "      <td>2465</td>\n",
       "      <td>1381</td>\n",
       "    </tr>\n",
       "    <tr>\n",
       "      <th>3</th>\n",
       "      <th>March 2018</th>\n",
       "      <td>1364</td>\n",
       "      <td>884</td>\n",
       "    </tr>\n",
       "    <tr>\n",
       "      <th>4</th>\n",
       "      <th>April 2018</th>\n",
       "      <td>2365</td>\n",
       "      <td>1519</td>\n",
       "    </tr>\n",
       "    <tr>\n",
       "      <th>5</th>\n",
       "      <th>May 2018</th>\n",
       "      <td>3041</td>\n",
       "      <td>1778</td>\n",
       "    </tr>\n",
       "    <tr>\n",
       "      <th>6</th>\n",
       "      <th>June 2018</th>\n",
       "      <td>3558</td>\n",
       "      <td>1867</td>\n",
       "    </tr>\n",
       "    <tr>\n",
       "      <th>7</th>\n",
       "      <th>July 2018</th>\n",
       "      <td>3673</td>\n",
       "      <td>1802</td>\n",
       "    </tr>\n",
       "    <tr>\n",
       "      <th>8</th>\n",
       "      <th>August 2018</th>\n",
       "      <td>3921</td>\n",
       "      <td>1369</td>\n",
       "    </tr>\n",
       "    <tr>\n",
       "      <th>9</th>\n",
       "      <th>September 2018</th>\n",
       "      <td>3119</td>\n",
       "      <td>1441</td>\n",
       "    </tr>\n",
       "    <tr>\n",
       "      <th>10</th>\n",
       "      <th>October 2018</th>\n",
       "      <td>3370</td>\n",
       "      <td>1685</td>\n",
       "    </tr>\n",
       "    <tr>\n",
       "      <th>11</th>\n",
       "      <th>November 2018</th>\n",
       "      <td>3868</td>\n",
       "      <td>1523</td>\n",
       "    </tr>\n",
       "    <tr>\n",
       "      <th>12</th>\n",
       "      <th>December 2018</th>\n",
       "      <td>4212</td>\n",
       "      <td>1984</td>\n",
       "    </tr>\n",
       "    <tr>\n",
       "      <th rowspan=\"8\" valign=\"top\">2019</th>\n",
       "      <th>3</th>\n",
       "      <th>March 2019</th>\n",
       "      <td>2366</td>\n",
       "      <td>1307</td>\n",
       "    </tr>\n",
       "    <tr>\n",
       "      <th>4</th>\n",
       "      <th>April 2019</th>\n",
       "      <td>2585</td>\n",
       "      <td>1583</td>\n",
       "    </tr>\n",
       "    <tr>\n",
       "      <th>5</th>\n",
       "      <th>May 2019</th>\n",
       "      <td>3393</td>\n",
       "      <td>1556</td>\n",
       "    </tr>\n",
       "    <tr>\n",
       "      <th>6</th>\n",
       "      <th>June 2019</th>\n",
       "      <td>3911</td>\n",
       "      <td>1742</td>\n",
       "    </tr>\n",
       "    <tr>\n",
       "      <th>7</th>\n",
       "      <th>July 2019</th>\n",
       "      <td>4548</td>\n",
       "      <td>1757</td>\n",
       "    </tr>\n",
       "    <tr>\n",
       "      <th>8</th>\n",
       "      <th>August 2019</th>\n",
       "      <td>3964</td>\n",
       "      <td>1675</td>\n",
       "    </tr>\n",
       "    <tr>\n",
       "      <th>9</th>\n",
       "      <th>September 2019</th>\n",
       "      <td>3556</td>\n",
       "      <td>1754</td>\n",
       "    </tr>\n",
       "    <tr>\n",
       "      <th>10</th>\n",
       "      <th>October 2019</th>\n",
       "      <td>3123</td>\n",
       "      <td>1800</td>\n",
       "    </tr>\n",
       "  </tbody>\n",
       "</table>\n",
       "</div>"
      ],
      "text/plain": [
       "hotel                                                       City Hotel   \n",
       "arrival_date_year arrival_date_month_number arrival_month                \n",
       "2017              1                         January 2017          1233  \\\n",
       "                  2                         February 2017         1649   \n",
       "                  9                         September 2017        1396   \n",
       "                  10                        October 2017          2474   \n",
       "                  11                        November 2017         3524   \n",
       "                  12                        December 2017         3382   \n",
       "2018              1                         January 2018          3103   \n",
       "                  2                         February 2018         2465   \n",
       "                  3                         March 2018            1364   \n",
       "                  4                         April 2018            2365   \n",
       "                  5                         May 2018              3041   \n",
       "                  6                         June 2018             3558   \n",
       "                  7                         July 2018             3673   \n",
       "                  8                         August 2018           3921   \n",
       "                  9                         September 2018        3119   \n",
       "                  10                        October 2018          3370   \n",
       "                  11                        November 2018         3868   \n",
       "                  12                        December 2018         4212   \n",
       "2019              3                         March 2019            2366   \n",
       "                  4                         April 2019            2585   \n",
       "                  5                         May 2019              3393   \n",
       "                  6                         June 2019             3911   \n",
       "                  7                         July 2019             4548   \n",
       "                  8                         August 2019           3964   \n",
       "                  9                         September 2019        3556   \n",
       "                  10                        October 2019          3123   \n",
       "\n",
       "hotel                                                       Resort Hotel  \n",
       "arrival_date_year arrival_date_month_number arrival_month                 \n",
       "2017              1                         January 2017            1104  \n",
       "                  2                         February 2017           1264  \n",
       "                  9                         September 2017          1378  \n",
       "                  10                        October 2017            1409  \n",
       "                  11                        November 2017           1585  \n",
       "                  12                        December 2017           1569  \n",
       "2018              1                         January 2018            1331  \n",
       "                  2                         February 2018           1381  \n",
       "                  3                         March 2018               884  \n",
       "                  4                         April 2018              1519  \n",
       "                  5                         May 2018                1778  \n",
       "                  6                         June 2018               1867  \n",
       "                  7                         July 2018               1802  \n",
       "                  8                         August 2018             1369  \n",
       "                  9                         September 2018          1441  \n",
       "                  10                        October 2018            1685  \n",
       "                  11                        November 2018           1523  \n",
       "                  12                        December 2018           1984  \n",
       "2019              3                         March 2019              1307  \n",
       "                  4                         April 2019              1583  \n",
       "                  5                         May 2019                1556  \n",
       "                  6                         June 2019               1742  \n",
       "                  7                         July 2019               1757  \n",
       "                  8                         August 2019             1675  \n",
       "                  9                         September 2019          1754  \n",
       "                  10                        October 2019            1800  "
      ]
     },
     "execution_count": 35,
     "metadata": {},
     "output_type": "execute_result"
    }
   ],
   "source": [
    "grouped_hotel_arrival"
   ]
  },
  {
   "cell_type": "code",
   "execution_count": 117,
   "id": "239206da",
   "metadata": {},
   "outputs": [],
   "source": [
    "hotel_counts = df['hotel'].value_counts()"
   ]
  },
  {
   "cell_type": "code",
   "execution_count": 116,
   "id": "ede7be03",
   "metadata": {},
   "outputs": [
    {
     "data": {
      "image/png": "[encoded data removed]",
      "text/plain": [
       "<Figure size 640x480 with 1 Axes>"
      ]
     },
     "metadata": {},
     "output_type": "display_data"
    }
   ],
   "source": [
    "pie_explode = [0, 0.03]\n",
    "colors = ['#f0ae88', '#7c2e28']\n",
    "\n",
    "# Membuat pie chart\n",
    "hotel_counts.plot(kind='pie', autopct='%1.1f%%', startangle=90, colors=colors,\n",
    "                  textprops={'fontsize':12, 'color':'white'}, labeldistance=None, explode=pie_explode)\n",
    "\n",
    "# Menambahkan judul\n",
    "plt.title('Overall Hotel Booking Percentage', fontsize=12, fontweight='bold')\n",
    "plt.ylabel('')\n",
    "\n",
    "plt.text(-1.45, -.3, 'City Hotel', fontsize=10, color='Black')\n",
    "plt.text(1.05, .35, 'Resort Hotel', fontsize=10, color='Black')\n",
    "\n",
    "plt.axis('equal')  # Mengatur aspek rasio agar menjadi lingkaran\n",
    "# Menampilkan pie chart\n",
    "plt.show()"
   ]
  },
  {
   "cell_type": "code",
   "execution_count": 122,
   "id": "2678b1f6",
   "metadata": {},
   "outputs": [],
   "source": [
    "grouped_hotel_arrival = grouped_hotel_arrival.reset_index()"
   ]
  },
  {
   "cell_type": "code",
   "execution_count": 173,
   "id": "adaa80a5",
   "metadata": {},
   "outputs": [
    {
     "data": {
      "image/png": "[encoded data removed]",
      "text/plain": [
       "<Figure size 1000x400 with 1 Axes>"
      ]
     },
     "metadata": {},
     "output_type": "display_data"
    }
   ],
   "source": [
    "plt.figure(figsize=(10, 4))\n",
    "\n",
    "plt.plot(grouped_hotel_arrival['arrival_month'], grouped_hotel_arrival['City Hotel'], \n",
    "         marker='o', linewidth=2.5, color='#5a435c', label='City Hotel')\n",
    "plt.plot(grouped_hotel_arrival['arrival_month'], grouped_hotel_arrival['Resort Hotel'], \n",
    "         marker='o', linewidth=2.5, color='#e59589', label='Resort Hotel')\n",
    "\n",
    "plt.grid(linestyle='-', linewidth=0.1, color='grey')\n",
    "plt.xticks(rotation=90)\n",
    "\n",
    "y_tick_label,location = plt.yticks()\n",
    "plt.yticks(y_tick_label, (y_tick_label*1).astype(int))\n",
    "\n",
    "plt.title('The graph shows a decline in the number of bookings\\nin March and then a rise again afterwards.', fontsize=10, y=.93)\n",
    "plt.suptitle('Overall City Hotel and Resort Hotel Booking Comparison', fontsize=12, fontweight='bold')\n",
    "\n",
    "plt.xlabel('Date', size=10)\n",
    "plt.ylabel('Total', size=10)\n",
    "\n",
    "ax = plt.gca()\n",
    "ax.spines['top'].set_color('none')\n",
    "ax.spines['right'].set_color('none')\n",
    "\n",
    "plt.legend()\n",
    "\n",
    "plt.show()"
   ]
  },
  {
   "cell_type": "markdown",
   "id": "24f672cc",
   "metadata": {},
   "source": [
    "### <font color = 'darkblue'> Impact Analysis Of Stay Duration On Hotel Bookings Cancellation Rates </font>"
   ]
  },
  {
   "cell_type": "code",
   "execution_count": 176,
   "id": "8ef9c46c",
   "metadata": {},
   "outputs": [],
   "source": [
    "df['total_stays'] = df['stays_in_weekend_nights'] + df['stays_in_weekdays_nights']"
   ]
  },
  {
   "cell_type": "code",
   "execution_count": 182,
   "id": "c6e8be32",
   "metadata": {},
   "outputs": [],
   "source": [
    "def create_bins(data, num_bins):\n",
    "    min_val = min(data)\n",
    "    max_val = max(data)\n",
    "    bin_width = (max_val - min_val) / num_bins\n",
    "    bins = [min_val + i * bin_width for i in range(num_bins)]\n",
    "    bins.append(max_val)  # tambahkan nilai maksimum sebagai batas atas terakhir\n",
    "    return bins"
   ]
  },
  {
   "cell_type": "code",
   "execution_count": 183,
   "id": "ac070a1e",
   "metadata": {},
   "outputs": [
    {
     "name": "stdout",
     "output_type": "stream",
     "text": [
      "Number of bins: 3\n",
      "Bins:\n",
      "Bin 1: 0.0 - 23.0\n",
      "Bin 2: 23.0 - 46.0\n",
      "Bin 3: 46.0 - 69\n",
      "\n",
      "Number of bins: 4\n",
      "Bins:\n",
      "Bin 1: 0.0 - 17.25\n",
      "Bin 2: 17.25 - 34.5\n",
      "Bin 3: 34.5 - 51.75\n",
      "Bin 4: 51.75 - 69\n",
      "\n",
      "Number of bins: 5\n",
      "Bins:\n",
      "Bin 1: 0.0 - 13.8\n",
      "Bin 2: 13.8 - 27.6\n",
      "Bin 3: 27.6 - 41.400000000000006\n",
      "Bin 4: 41.400000000000006 - 55.2\n",
      "Bin 5: 55.2 - 69\n",
      "\n"
     ]
    }
   ],
   "source": [
    "data = [0, 69]\n",
    "num_bins_list = [3, 4, 5]\n",
    "\n",
    "for num_bins in num_bins_list:\n",
    "    bins = create_bins(data, num_bins)\n",
    "    print(f'Number of bins: {num_bins}')\n",
    "    print('Bins:')\n",
    "    for i in range(len(bins) - 1):\n",
    "        print(f'Bin {i+1}: {bins[i]} - {bins[i+1]}')\n",
    "    print()"
   ]
  },
  {
   "cell_type": "code",
   "execution_count": 184,
   "id": "93f519c4",
   "metadata": {},
   "outputs": [],
   "source": [
    "bins = [0, 14, 28, 42, 55, 100]\n",
    "labels = ['Very Short', 'Short', 'Medium', 'Long', 'Very Long']\n",
    "\n",
    "df['stay_duration_category'] = pd.cut(df['total_stays'], bins=bins, labels=labels, right=False)"
   ]
  },
  {
   "cell_type": "code",
   "execution_count": 188,
   "id": "28513f75",
   "metadata": {},
   "outputs": [],
   "source": [
    "cancelled_bookings = df.groupby(['stay_duration_category', 'hotel'])['is_canceled'].agg(['sum', 'count']).reset_index()\n",
    "\n",
    "cancelled_bookings['cancellation_rate'] = cancelled_bookings['sum'] / cancelled_bookings['count']"
   ]
  },
  {
   "cell_type": "code",
   "execution_count": 189,
   "id": "ffa2df71",
   "metadata": {},
   "outputs": [
    {
     "data": {
      "text/html": [
       "<div>\n",
       "<style scoped>\n",
       "    .dataframe tbody tr th:only-of-type {\n",
       "        vertical-align: middle;\n",
       "    }\n",
       "\n",
       "    .dataframe tbody tr th {\n",
       "        vertical-align: top;\n",
       "    }\n",
       "\n",
       "    .dataframe thead th {\n",
       "        text-align: right;\n",
       "    }\n",
       "</style>\n",
       "<table border=\"1\" class=\"dataframe\">\n",
       "  <thead>\n",
       "    <tr style=\"text-align: right;\">\n",
       "      <th></th>\n",
       "      <th>stay_duration_category</th>\n",
       "      <th>hotel</th>\n",
       "      <th>sum</th>\n",
       "      <th>count</th>\n",
       "      <th>cancellation_rate</th>\n",
       "    </tr>\n",
       "  </thead>\n",
       "  <tbody>\n",
       "    <tr>\n",
       "      <th>0</th>\n",
       "      <td>Very Short</td>\n",
       "      <td>City Hotel</td>\n",
       "      <td>32891</td>\n",
       "      <td>78914</td>\n",
       "      <td>0.416795</td>\n",
       "    </tr>\n",
       "    <tr>\n",
       "      <th>1</th>\n",
       "      <td>Very Short</td>\n",
       "      <td>Resort Hotel</td>\n",
       "      <td>10809</td>\n",
       "      <td>38954</td>\n",
       "      <td>0.277481</td>\n",
       "    </tr>\n",
       "    <tr>\n",
       "      <th>2</th>\n",
       "      <td>Short</td>\n",
       "      <td>City Hotel</td>\n",
       "      <td>165</td>\n",
       "      <td>224</td>\n",
       "      <td>0.736607</td>\n",
       "    </tr>\n",
       "    <tr>\n",
       "      <th>3</th>\n",
       "      <td>Short</td>\n",
       "      <td>Resort Hotel</td>\n",
       "      <td>295</td>\n",
       "      <td>1037</td>\n",
       "      <td>0.284474</td>\n",
       "    </tr>\n",
       "    <tr>\n",
       "      <th>4</th>\n",
       "      <td>Medium</td>\n",
       "      <td>City Hotel</td>\n",
       "      <td>23</td>\n",
       "      <td>24</td>\n",
       "      <td>0.958333</td>\n",
       "    </tr>\n",
       "    <tr>\n",
       "      <th>5</th>\n",
       "      <td>Medium</td>\n",
       "      <td>Resort Hotel</td>\n",
       "      <td>14</td>\n",
       "      <td>46</td>\n",
       "      <td>0.304348</td>\n",
       "    </tr>\n",
       "    <tr>\n",
       "      <th>6</th>\n",
       "      <td>Long</td>\n",
       "      <td>City Hotel</td>\n",
       "      <td>0</td>\n",
       "      <td>1</td>\n",
       "      <td>0.000000</td>\n",
       "    </tr>\n",
       "    <tr>\n",
       "      <th>7</th>\n",
       "      <td>Long</td>\n",
       "      <td>Resort Hotel</td>\n",
       "      <td>1</td>\n",
       "      <td>6</td>\n",
       "      <td>0.166667</td>\n",
       "    </tr>\n",
       "    <tr>\n",
       "      <th>8</th>\n",
       "      <td>Very Long</td>\n",
       "      <td>City Hotel</td>\n",
       "      <td>0</td>\n",
       "      <td>0</td>\n",
       "      <td>NaN</td>\n",
       "    </tr>\n",
       "    <tr>\n",
       "      <th>9</th>\n",
       "      <td>Very Long</td>\n",
       "      <td>Resort Hotel</td>\n",
       "      <td>1</td>\n",
       "      <td>4</td>\n",
       "      <td>0.250000</td>\n",
       "    </tr>\n",
       "  </tbody>\n",
       "</table>\n",
       "</div>"
      ],
      "text/plain": [
       "  stay_duration_category         hotel    sum  count  cancellation_rate\n",
       "0             Very Short    City Hotel  32891  78914           0.416795\n",
       "1             Very Short  Resort Hotel  10809  38954           0.277481\n",
       "2                  Short    City Hotel    165    224           0.736607\n",
       "3                  Short  Resort Hotel    295   1037           0.284474\n",
       "4                 Medium    City Hotel     23     24           0.958333\n",
       "5                 Medium  Resort Hotel     14     46           0.304348\n",
       "6                   Long    City Hotel      0      1           0.000000\n",
       "7                   Long  Resort Hotel      1      6           0.166667\n",
       "8              Very Long    City Hotel      0      0                NaN\n",
       "9              Very Long  Resort Hotel      1      4           0.250000"
      ]
     },
     "execution_count": 189,
     "metadata": {},
     "output_type": "execute_result"
    }
   ],
   "source": [
    "cancelled_bookings"
   ]
  },
  {
   "cell_type": "code",
   "execution_count": 192,
   "id": "d254c89b",
   "metadata": {},
   "outputs": [],
   "source": [
    "cancelled_of_all_time = cancelled_bookings.groupby(['hotel'])['sum'].sum().reset_index()"
   ]
  },
  {
   "cell_type": "code",
   "execution_count": 194,
   "id": "b36656e6",
   "metadata": {},
   "outputs": [
    {
     "data": {
      "text/html": [
       "<div>\n",
       "<style scoped>\n",
       "    .dataframe tbody tr th:only-of-type {\n",
       "        vertical-align: middle;\n",
       "    }\n",
       "\n",
       "    .dataframe tbody tr th {\n",
       "        vertical-align: top;\n",
       "    }\n",
       "\n",
       "    .dataframe thead th {\n",
       "        text-align: right;\n",
       "    }\n",
       "</style>\n",
       "<table border=\"1\" class=\"dataframe\">\n",
       "  <thead>\n",
       "    <tr style=\"text-align: right;\">\n",
       "      <th></th>\n",
       "      <th>hotel</th>\n",
       "      <th>sum</th>\n",
       "    </tr>\n",
       "  </thead>\n",
       "  <tbody>\n",
       "    <tr>\n",
       "      <th>0</th>\n",
       "      <td>City Hotel</td>\n",
       "      <td>33079</td>\n",
       "    </tr>\n",
       "    <tr>\n",
       "      <th>1</th>\n",
       "      <td>Resort Hotel</td>\n",
       "      <td>11120</td>\n",
       "    </tr>\n",
       "  </tbody>\n",
       "</table>\n",
       "</div>"
      ],
      "text/plain": [
       "          hotel    sum\n",
       "0    City Hotel  33079\n",
       "1  Resort Hotel  11120"
      ]
     },
     "execution_count": 194,
     "metadata": {},
     "output_type": "execute_result"
    }
   ],
   "source": [
    "cancelled_of_all_time"
   ]
  },
  {
   "cell_type": "code",
   "execution_count": 265,
   "id": "65189211",
   "metadata": {},
   "outputs": [
    {
     "data": {
      "image/png": "[encoded data removed]",
      "text/plain": [
       "<Figure size 640x480 with 1 Axes>"
      ]
     },
     "metadata": {},
     "output_type": "display_data"
    }
   ],
   "source": [
    "pie_explode = [0, 0.03]\n",
    "colors = ['#ff2900', '#b31d00']\n",
    "\n",
    "# Membuat pie chart\n",
    "plt.pie(cancelled_of_all_time['sum'], autopct='%1.1f%%', startangle=90, colors=colors,\n",
    "                  textprops={'fontsize':12, 'color':'white'}, labeldistance=None, explode=pie_explode)\n",
    "\n",
    "# Menambahkan judul\n",
    "plt.title('Comparison of Overall Hotel Booking Cancellations', fontsize=12, fontweight='bold')\n",
    "plt.ylabel('')\n",
    "\n",
    "plt.text(-1.45, -.4, 'City Hotel', fontsize=10, color='#ff2900')\n",
    "plt.text(.9, .65, 'Resort Hotel', fontsize=10, color='#b31d00')\n",
    "\n",
    "plt.axis('equal')  # Mengatur aspek rasio agar menjadi lingkaran\n",
    "# Menampilkan pie chart\n",
    "plt.show()"
   ]
  },
  {
   "cell_type": "code",
   "execution_count": 223,
   "id": "3376e359",
   "metadata": {},
   "outputs": [],
   "source": [
    "cancelled_booking_resort = cancelled_bookings[cancelled_bookings['hotel']=='Resort Hotel']"
   ]
  },
  {
   "cell_type": "code",
   "execution_count": 231,
   "id": "380fb765",
   "metadata": {},
   "outputs": [],
   "source": [
    "data = {\n",
    "    'status_cancel':['Not Cancelled', 'Cancelled'],\n",
    "    'total':[28927, 11120]\n",
    "}\n",
    "\n",
    "df_cancelled_resort = pd.DataFrame(data)"
   ]
  },
  {
   "cell_type": "code",
   "execution_count": 232,
   "id": "fe5578c1",
   "metadata": {},
   "outputs": [
    {
     "data": {
      "text/html": [
       "<div>\n",
       "<style scoped>\n",
       "    .dataframe tbody tr th:only-of-type {\n",
       "        vertical-align: middle;\n",
       "    }\n",
       "\n",
       "    .dataframe tbody tr th {\n",
       "        vertical-align: top;\n",
       "    }\n",
       "\n",
       "    .dataframe thead th {\n",
       "        text-align: right;\n",
       "    }\n",
       "</style>\n",
       "<table border=\"1\" class=\"dataframe\">\n",
       "  <thead>\n",
       "    <tr style=\"text-align: right;\">\n",
       "      <th></th>\n",
       "      <th>status_cancel</th>\n",
       "      <th>total</th>\n",
       "    </tr>\n",
       "  </thead>\n",
       "  <tbody>\n",
       "    <tr>\n",
       "      <th>0</th>\n",
       "      <td>Not Cancelled</td>\n",
       "      <td>28927</td>\n",
       "    </tr>\n",
       "    <tr>\n",
       "      <th>1</th>\n",
       "      <td>Cancelled</td>\n",
       "      <td>11120</td>\n",
       "    </tr>\n",
       "  </tbody>\n",
       "</table>\n",
       "</div>"
      ],
      "text/plain": [
       "   status_cancel  total\n",
       "0  Not Cancelled  28927\n",
       "1      Cancelled  11120"
      ]
     },
     "execution_count": 232,
     "metadata": {},
     "output_type": "execute_result"
    }
   ],
   "source": [
    "df_cancelled_resort"
   ]
  },
  {
   "cell_type": "code",
   "execution_count": 266,
   "id": "0c2925ab",
   "metadata": {},
   "outputs": [
    {
     "data": {
      "image/png": "[encoded data removed]",
      "text/plain": [
       "<Figure size 640x480 with 1 Axes>"
      ]
     },
     "metadata": {},
     "output_type": "display_data"
    }
   ],
   "source": [
    "pie_explode = [0, 0.03]\n",
    "colors = ['#1fba96', '#eb0b0b']\n",
    "\n",
    "# Membuat pie chart\n",
    "plt.pie(df_cancelled_resort['total'], autopct='%1.1f%%', startangle=90, colors=colors,\n",
    "                  textprops={'fontsize':12, 'color':'black'}, labeldistance=None, explode=pie_explode)\n",
    "\n",
    "# Menambahkan judul\n",
    "plt.title('Overall Hotel Resort Booking Cancellation Rate', fontsize=12, fontweight='bold')\n",
    "plt.ylabel('')\n",
    "\n",
    "plt.text(-1.55, -.4, 'Not Cancelled', fontsize=10, color='#1fba96')\n",
    "plt.text(.9, .65, 'Cancelled', fontsize=10, color='#eb0b0b')\n",
    "\n",
    "plt.axis('equal')  # Mengatur aspek rasio agar menjadi lingkaran\n",
    "# Menampilkan pie chart\n",
    "plt.show()"
   ]
  },
  {
   "cell_type": "code",
   "execution_count": 243,
   "id": "4465f8fc",
   "metadata": {},
   "outputs": [
    {
     "data": {
      "text/html": [
       "<div>\n",
       "<style scoped>\n",
       "    .dataframe tbody tr th:only-of-type {\n",
       "        vertical-align: middle;\n",
       "    }\n",
       "\n",
       "    .dataframe tbody tr th {\n",
       "        vertical-align: top;\n",
       "    }\n",
       "\n",
       "    .dataframe thead th {\n",
       "        text-align: right;\n",
       "    }\n",
       "</style>\n",
       "<table border=\"1\" class=\"dataframe\">\n",
       "  <thead>\n",
       "    <tr style=\"text-align: right;\">\n",
       "      <th></th>\n",
       "      <th>sum</th>\n",
       "      <th>count</th>\n",
       "    </tr>\n",
       "    <tr>\n",
       "      <th>hotel</th>\n",
       "      <th></th>\n",
       "      <th></th>\n",
       "    </tr>\n",
       "  </thead>\n",
       "  <tbody>\n",
       "    <tr>\n",
       "      <th>City Hotel</th>\n",
       "      <td>33079</td>\n",
       "      <td>79163</td>\n",
       "    </tr>\n",
       "  </tbody>\n",
       "</table>\n",
       "</div>"
      ],
      "text/plain": [
       "              sum  count\n",
       "hotel                   \n",
       "City Hotel  33079  79163"
      ]
     },
     "execution_count": 243,
     "metadata": {},
     "output_type": "execute_result"
    }
   ],
   "source": [
    "cancelled_booking_city = cancelled_bookings[cancelled_bookings['hotel']=='City Hotel']\n",
    "cancelled_booking_city.groupby(['hotel']).agg({'sum':sum, 'count':sum})"
   ]
  },
  {
   "cell_type": "code",
   "execution_count": 245,
   "id": "66a36a66",
   "metadata": {},
   "outputs": [],
   "source": [
    "data = {\n",
    "    'status_cancel':['Not Cancelled', 'Cancelled'],\n",
    "    'total':[46084, 33079]\n",
    "}\n",
    "\n",
    "df_cancelled_city = pd.DataFrame(data)"
   ]
  },
  {
   "cell_type": "code",
   "execution_count": 246,
   "id": "8bf9a9e3",
   "metadata": {},
   "outputs": [
    {
     "data": {
      "text/html": [
       "<div>\n",
       "<style scoped>\n",
       "    .dataframe tbody tr th:only-of-type {\n",
       "        vertical-align: middle;\n",
       "    }\n",
       "\n",
       "    .dataframe tbody tr th {\n",
       "        vertical-align: top;\n",
       "    }\n",
       "\n",
       "    .dataframe thead th {\n",
       "        text-align: right;\n",
       "    }\n",
       "</style>\n",
       "<table border=\"1\" class=\"dataframe\">\n",
       "  <thead>\n",
       "    <tr style=\"text-align: right;\">\n",
       "      <th></th>\n",
       "      <th>status_cancel</th>\n",
       "      <th>total</th>\n",
       "    </tr>\n",
       "  </thead>\n",
       "  <tbody>\n",
       "    <tr>\n",
       "      <th>0</th>\n",
       "      <td>Not Cancelled</td>\n",
       "      <td>46084</td>\n",
       "    </tr>\n",
       "    <tr>\n",
       "      <th>1</th>\n",
       "      <td>Cancelled</td>\n",
       "      <td>33079</td>\n",
       "    </tr>\n",
       "  </tbody>\n",
       "</table>\n",
       "</div>"
      ],
      "text/plain": [
       "   status_cancel  total\n",
       "0  Not Cancelled  46084\n",
       "1      Cancelled  33079"
      ]
     },
     "execution_count": 246,
     "metadata": {},
     "output_type": "execute_result"
    }
   ],
   "source": [
    "df_cancelled_city"
   ]
  },
  {
   "cell_type": "code",
   "execution_count": 263,
   "id": "411ca0fa",
   "metadata": {},
   "outputs": [
    {
     "data": {
      "image/png": "[encoded data removed]",
      "text/plain": [
       "<Figure size 640x480 with 1 Axes>"
      ]
     },
     "metadata": {},
     "output_type": "display_data"
    }
   ],
   "source": [
    "pie_explode = [0, 0.03]\n",
    "colors = ['#6da6da', '#ff001e']\n",
    "\n",
    "# Membuat pie chart\n",
    "plt.pie(df_cancelled_city['total'], autopct='%1.1f%%', startangle=90, colors=colors,\n",
    "                  textprops={'fontsize':12, 'color':'black'}, labeldistance=None, explode=pie_explode)\n",
    "\n",
    "# Menambahkan judul\n",
    "plt.title('Overall Hotel City Booking Cancellation Rate', fontsize=12, fontweight='bold')\n",
    "plt.ylabel('')\n",
    "\n",
    "plt.text(-1.55, -.4, 'Not Cancelled', fontsize=10, color='#6da6da')\n",
    "plt.text(1.1, .15, 'Cancelled', fontsize=10, color='#ff001e')\n",
    "\n",
    "plt.axis('equal')  # Mengatur aspek rasio agar menjadi lingkaran\n",
    "# Menampilkan pie chart\n",
    "plt.show()"
   ]
  },
  {
   "cell_type": "code",
   "execution_count": 267,
   "id": "8ab55743",
   "metadata": {},
   "outputs": [
    {
     "data": {
      "text/html": [
       "<div>\n",
       "<style scoped>\n",
       "    .dataframe tbody tr th:only-of-type {\n",
       "        vertical-align: middle;\n",
       "    }\n",
       "\n",
       "    .dataframe tbody tr th {\n",
       "        vertical-align: top;\n",
       "    }\n",
       "\n",
       "    .dataframe thead th {\n",
       "        text-align: right;\n",
       "    }\n",
       "</style>\n",
       "<table border=\"1\" class=\"dataframe\">\n",
       "  <thead>\n",
       "    <tr style=\"text-align: right;\">\n",
       "      <th></th>\n",
       "      <th>stay_duration_category</th>\n",
       "      <th>hotel</th>\n",
       "      <th>sum</th>\n",
       "      <th>count</th>\n",
       "      <th>cancellation_rate</th>\n",
       "    </tr>\n",
       "  </thead>\n",
       "  <tbody>\n",
       "    <tr>\n",
       "      <th>0</th>\n",
       "      <td>Very Short</td>\n",
       "      <td>City Hotel</td>\n",
       "      <td>32891</td>\n",
       "      <td>78914</td>\n",
       "      <td>0.416795</td>\n",
       "    </tr>\n",
       "    <tr>\n",
       "      <th>1</th>\n",
       "      <td>Very Short</td>\n",
       "      <td>Resort Hotel</td>\n",
       "      <td>10809</td>\n",
       "      <td>38954</td>\n",
       "      <td>0.277481</td>\n",
       "    </tr>\n",
       "    <tr>\n",
       "      <th>2</th>\n",
       "      <td>Short</td>\n",
       "      <td>City Hotel</td>\n",
       "      <td>165</td>\n",
       "      <td>224</td>\n",
       "      <td>0.736607</td>\n",
       "    </tr>\n",
       "    <tr>\n",
       "      <th>3</th>\n",
       "      <td>Short</td>\n",
       "      <td>Resort Hotel</td>\n",
       "      <td>295</td>\n",
       "      <td>1037</td>\n",
       "      <td>0.284474</td>\n",
       "    </tr>\n",
       "    <tr>\n",
       "      <th>4</th>\n",
       "      <td>Medium</td>\n",
       "      <td>City Hotel</td>\n",
       "      <td>23</td>\n",
       "      <td>24</td>\n",
       "      <td>0.958333</td>\n",
       "    </tr>\n",
       "    <tr>\n",
       "      <th>5</th>\n",
       "      <td>Medium</td>\n",
       "      <td>Resort Hotel</td>\n",
       "      <td>14</td>\n",
       "      <td>46</td>\n",
       "      <td>0.304348</td>\n",
       "    </tr>\n",
       "    <tr>\n",
       "      <th>6</th>\n",
       "      <td>Long</td>\n",
       "      <td>City Hotel</td>\n",
       "      <td>0</td>\n",
       "      <td>1</td>\n",
       "      <td>0.000000</td>\n",
       "    </tr>\n",
       "    <tr>\n",
       "      <th>7</th>\n",
       "      <td>Long</td>\n",
       "      <td>Resort Hotel</td>\n",
       "      <td>1</td>\n",
       "      <td>6</td>\n",
       "      <td>0.166667</td>\n",
       "    </tr>\n",
       "    <tr>\n",
       "      <th>8</th>\n",
       "      <td>Very Long</td>\n",
       "      <td>City Hotel</td>\n",
       "      <td>0</td>\n",
       "      <td>0</td>\n",
       "      <td>NaN</td>\n",
       "    </tr>\n",
       "    <tr>\n",
       "      <th>9</th>\n",
       "      <td>Very Long</td>\n",
       "      <td>Resort Hotel</td>\n",
       "      <td>1</td>\n",
       "      <td>4</td>\n",
       "      <td>0.250000</td>\n",
       "    </tr>\n",
       "  </tbody>\n",
       "</table>\n",
       "</div>"
      ],
      "text/plain": [
       "  stay_duration_category         hotel    sum  count  cancellation_rate\n",
       "0             Very Short    City Hotel  32891  78914           0.416795\n",
       "1             Very Short  Resort Hotel  10809  38954           0.277481\n",
       "2                  Short    City Hotel    165    224           0.736607\n",
       "3                  Short  Resort Hotel    295   1037           0.284474\n",
       "4                 Medium    City Hotel     23     24           0.958333\n",
       "5                 Medium  Resort Hotel     14     46           0.304348\n",
       "6                   Long    City Hotel      0      1           0.000000\n",
       "7                   Long  Resort Hotel      1      6           0.166667\n",
       "8              Very Long    City Hotel      0      0                NaN\n",
       "9              Very Long  Resort Hotel      1      4           0.250000"
      ]
     },
     "execution_count": 267,
     "metadata": {},
     "output_type": "execute_result"
    }
   ],
   "source": [
    "cancelled_bookings"
   ]
  },
  {
   "cell_type": "code",
   "execution_count": 285,
   "id": "f4bb6aa1",
   "metadata": {},
   "outputs": [
    {
     "data": {
      "image/png": "[encoded data removed]",
      "text/plain": [
       "<Figure size 1000x600 with 1 Axes>"
      ]
     },
     "metadata": {},
     "output_type": "display_data"
    }
   ],
   "source": [
    "colors = ['#809bce', '#95b8d1', '#b8e0d4', '#d6eadf', '#eac4d5']\n",
    "\n",
    "plt.figure(figsize=(10, 6))\n",
    "ax = sns.countplot(x='hotel', hue='stay_duration_category', data=df, palette=colors)\n",
    "plt.yscale('log')  # Mengubah skala sumbu y menjadi logaritmik\n",
    "\n",
    "# Menambahkan angka di atas setiap bar\n",
    "for p in ax.patches:\n",
    "    ax.annotate(f'{p.get_height():.0f}', (p.get_x() + p.get_width() / 2., p.get_height()), ha='center', va='center', xytext=(0, 10), textcoords='offset points')\n",
    "\n",
    "plt.title('Distribution of Cancellation Based on Stay Duration Category', fontweight='bold')\n",
    "plt.xlabel('Hotel')\n",
    "plt.ylabel('Number of Cancellation\\n(Logarithmic Scale)')\n",
    "plt.legend(title='Stay Duration Category', loc='upper right')\n",
    "plt.xticks(rotation=0)\n",
    "plt.show()"
   ]
  },
  {
   "cell_type": "markdown",
   "id": "9acc90fe",
   "metadata": {},
   "source": [
    "### <font color = 'darkblue'>  Impact Analysis Of Lead Time On Hotel Bookings Cancellation Rate </font>"
   ]
  },
  {
   "cell_type": "code",
   "execution_count": 288,
   "id": "a0f0eddd",
   "metadata": {},
   "outputs": [
    {
     "data": {
      "text/plain": [
       "count    119210.000000\n",
       "mean        104.109227\n",
       "std         106.875450\n",
       "min           0.000000\n",
       "25%          18.000000\n",
       "50%          69.000000\n",
       "75%         161.000000\n",
       "max         737.000000\n",
       "Name: lead_time, dtype: float64"
      ]
     },
     "execution_count": 288,
     "metadata": {},
     "output_type": "execute_result"
    }
   ],
   "source": [
    "df['lead_time'].describe()"
   ]
  },
  {
   "cell_type": "code",
   "execution_count": 290,
   "id": "e9a2386c",
   "metadata": {},
   "outputs": [],
   "source": [
    "bins = [0, 18, 69, 161, 366, float('inf')]  \n",
    "labels = ['0-17 days', '18-68 days', '69-160 days', '161-365 days', 'More than 365 days']  \n",
    "\n",
    "df['lead_time_category'] = pd.cut(df['lead_time'], bins=bins, labels=labels, right=False, include_lowest=True)"
   ]
  },
  {
   "cell_type": "code",
   "execution_count": 292,
   "id": "c4b7e223",
   "metadata": {},
   "outputs": [],
   "source": [
    "aggregate_table = df.groupby(['hotel', 'lead_time_category']).agg(\n",
    "    total_bookings=pd.NamedAgg(column='is_canceled', aggfunc='count'),\n",
    "    total_cancellations=pd.NamedAgg(column='is_canceled', aggfunc='sum')\n",
    ").reset_index()"
   ]
  },
  {
   "cell_type": "code",
   "execution_count": 293,
   "id": "bfa15708",
   "metadata": {},
   "outputs": [],
   "source": [
    "aggregate_table['cancellation_rate'] = aggregate_table['total_cancellations'] / aggregate_table['total_bookings']"
   ]
  },
  {
   "cell_type": "code",
   "execution_count": 297,
   "id": "a5879a7a",
   "metadata": {},
   "outputs": [],
   "source": [
    "df_aggregate_table= aggregate_table[['hotel', 'lead_time_category', 'cancellation_rate']]"
   ]
  },
  {
   "cell_type": "code",
   "execution_count": 300,
   "id": "a80bee68",
   "metadata": {},
   "outputs": [
    {
     "data": {
      "image/png": "[encoded data removed]",
      "text/plain": [
       "<Figure size 1200x600 with 1 Axes>"
      ]
     },
     "metadata": {},
     "output_type": "display_data"
    }
   ],
   "source": [
    "colors=['#f0ae88', '#7c2e28']\n",
    "\n",
    "plt.figure(figsize=(12, 6))\n",
    "ax = sns.barplot(x='lead_time_category', y='cancellation_rate', hue='hotel', data=df_aggregate_table, palette=colors)\n",
    "\n",
    "# Menambahkan label di atas bar\n",
    "for p in ax.patches:\n",
    "    height = p.get_height()\n",
    "    ax.annotate(f'{height:.2f}', (p.get_x() + p.get_width() / 2., height), ha='center', va='center', xytext=(0, 8), textcoords='offset points')\n",
    "\n",
    "plt.title('Cancellation Rate by Lead Time Category and Hotel Type', fontweight='bold')\n",
    "plt.xlabel('Lead Time Category')\n",
    "plt.ylabel('Cancellation Rate')\n",
    "plt.ylim(0, 1)  \n",
    "plt.legend(title='Hotel Type', loc='upper left')\n",
    "plt.show()"
   ]
  },
  {
   "cell_type": "code",
   "execution_count": null,
   "id": "f1d21577",
   "metadata": {},
   "outputs": [],
   "source": []
  }
 ],
 "metadata": {
  "kernelspec": {
   "display_name": "Python 3 (ipykernel)",
   "language": "python",
   "name": "python3"
  },
  "language_info": {
   "codemirror_mode": {
    "name": "ipython",
    "version": 3
   },
   "file_extension": ".py",
   "mimetype": "text/x-python",
   "name": "python",
   "nbconvert_exporter": "python",
   "pygments_lexer": "ipython3",
   "version": "3.10.4"
  }
 },
 "nbformat": 4,
 "nbformat_minor": 5
}
